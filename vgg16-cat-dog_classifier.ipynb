{
 "cells": [
  {
   "cell_type": "code",
   "execution_count": 1,
   "metadata": {
    "_cell_guid": "b1076dfc-b9ad-4769-8c92-a6c4dae69d19",
    "_uuid": "8f2839f25d086af736a60e9eeb907d3b93b6e0e5",
    "execution": {
     "iopub.execute_input": "2021-08-23T17:38:54.830889Z",
     "iopub.status.busy": "2021-08-23T17:38:54.830449Z",
     "iopub.status.idle": "2021-08-23T17:38:54.842151Z",
     "shell.execute_reply": "2021-08-23T17:38:54.841158Z",
     "shell.execute_reply.started": "2021-08-23T17:38:54.830803Z"
    },
    "jupyter": {
     "source_hidden": true
    }
   },
   "outputs": [],
   "source": [
    "# This Python 3 environment comes with many helpful analytics libraries installed\n",
    "# It is defined by the kaggle/python Docker image: https://github.com/kaggle/docker-python\n",
    "# For example, here's several helpful packages to load\n",
    "\n",
    "import numpy as np # linear algebra\n",
    "import pandas as pd # data processing, CSV file I/O (e.g. pd.read_csv)\n",
    "\n",
    "# Input data files are available in the read-only \"../input/\" directory\n",
    "# For example, running this (by clicking run or pressing Shift+Enter) will list all files under the input directory\n",
    "\n",
    "import os\n",
    "#for dirname, _, filenames in os.walk('/kaggle/input'):\n",
    "  #  for filename in filenames:\n",
    "       # print(os.path.join(dirname, filename))\n",
    "\n",
    "# You can write up to 20GB to the current directory (/kaggle/working/) that gets preserved as output when you create a version using \"Save & Run All\" \n",
    "# You can also write temporary files to /kaggle/temp/, but they won't be saved outside of the current session"
   ]
  },
  {
   "cell_type": "code",
   "execution_count": 2,
   "metadata": {
    "execution": {
     "iopub.execute_input": "2021-08-23T17:40:00.571515Z",
     "iopub.status.busy": "2021-08-23T17:40:00.571169Z",
     "iopub.status.idle": "2021-08-23T17:40:05.319741Z",
     "shell.execute_reply": "2021-08-23T17:40:05.318400Z",
     "shell.execute_reply.started": "2021-08-23T17:40:00.571483Z"
    }
   },
   "outputs": [],
   "source": [
    "import tensorflow as tf"
   ]
  },
  {
   "cell_type": "code",
   "execution_count": 4,
   "metadata": {
    "execution": {
     "iopub.execute_input": "2021-08-23T17:42:19.586399Z",
     "iopub.status.busy": "2021-08-23T17:42:19.586030Z",
     "iopub.status.idle": "2021-08-23T17:42:22.467359Z",
     "shell.execute_reply": "2021-08-23T17:42:22.466393Z",
     "shell.execute_reply.started": "2021-08-23T17:42:19.586365Z"
    }
   },
   "outputs": [
    {
     "name": "stdout",
     "output_type": "stream",
     "text": [
      "Downloading data from https://storage.googleapis.com/tensorflow/keras-applications/vgg16/vgg16_weights_tf_dim_ordering_tf_kernels_notop.h5\n",
      "58892288/58889256 [==============================] - 0s 0us/step\n"
     ]
    }
   ],
   "source": [
    "vgg=tf.keras.applications.VGG16(include_top=False,input_shape=(224,224,3))"
   ]
  },
  {
   "cell_type": "code",
   "execution_count": 5,
   "metadata": {
    "execution": {
     "iopub.execute_input": "2021-08-23T17:43:36.587008Z",
     "iopub.status.busy": "2021-08-23T17:43:36.586648Z",
     "iopub.status.idle": "2021-08-23T17:43:36.606485Z",
     "shell.execute_reply": "2021-08-23T17:43:36.605579Z",
     "shell.execute_reply.started": "2021-08-23T17:43:36.586977Z"
    }
   },
   "outputs": [
    {
     "name": "stdout",
     "output_type": "stream",
     "text": [
      "Model: \"vgg16\"\n",
      "_________________________________________________________________\n",
      "Layer (type)                 Output Shape              Param #   \n",
      "=================================================================\n",
      "input_1 (InputLayer)         [(None, 224, 224, 3)]     0         \n",
      "_________________________________________________________________\n",
      "block1_conv1 (Conv2D)        (None, 224, 224, 64)      1792      \n",
      "_________________________________________________________________\n",
      "block1_conv2 (Conv2D)        (None, 224, 224, 64)      36928     \n",
      "_________________________________________________________________\n",
      "block1_pool (MaxPooling2D)   (None, 112, 112, 64)      0         \n",
      "_________________________________________________________________\n",
      "block2_conv1 (Conv2D)        (None, 112, 112, 128)     73856     \n",
      "_________________________________________________________________\n",
      "block2_conv2 (Conv2D)        (None, 112, 112, 128)     147584    \n",
      "_________________________________________________________________\n",
      "block2_pool (MaxPooling2D)   (None, 56, 56, 128)       0         \n",
      "_________________________________________________________________\n",
      "block3_conv1 (Conv2D)        (None, 56, 56, 256)       295168    \n",
      "_________________________________________________________________\n",
      "block3_conv2 (Conv2D)        (None, 56, 56, 256)       590080    \n",
      "_________________________________________________________________\n",
      "block3_conv3 (Conv2D)        (None, 56, 56, 256)       590080    \n",
      "_________________________________________________________________\n",
      "block3_pool (MaxPooling2D)   (None, 28, 28, 256)       0         \n",
      "_________________________________________________________________\n",
      "block4_conv1 (Conv2D)        (None, 28, 28, 512)       1180160   \n",
      "_________________________________________________________________\n",
      "block4_conv2 (Conv2D)        (None, 28, 28, 512)       2359808   \n",
      "_________________________________________________________________\n",
      "block4_conv3 (Conv2D)        (None, 28, 28, 512)       2359808   \n",
      "_________________________________________________________________\n",
      "block4_pool (MaxPooling2D)   (None, 14, 14, 512)       0         \n",
      "_________________________________________________________________\n",
      "block5_conv1 (Conv2D)        (None, 14, 14, 512)       2359808   \n",
      "_________________________________________________________________\n",
      "block5_conv2 (Conv2D)        (None, 14, 14, 512)       2359808   \n",
      "_________________________________________________________________\n",
      "block5_conv3 (Conv2D)        (None, 14, 14, 512)       2359808   \n",
      "_________________________________________________________________\n",
      "block5_pool (MaxPooling2D)   (None, 7, 7, 512)         0         \n",
      "=================================================================\n",
      "Total params: 14,714,688\n",
      "Trainable params: 14,714,688\n",
      "Non-trainable params: 0\n",
      "_________________________________________________________________\n"
     ]
    }
   ],
   "source": [
    "vgg.summary()"
   ]
  },
  {
   "cell_type": "code",
   "execution_count": 6,
   "metadata": {
    "execution": {
     "iopub.execute_input": "2021-08-23T17:45:31.476641Z",
     "iopub.status.busy": "2021-08-23T17:45:31.476254Z",
     "iopub.status.idle": "2021-08-23T17:45:31.481983Z",
     "shell.execute_reply": "2021-08-23T17:45:31.480811Z",
     "shell.execute_reply.started": "2021-08-23T17:45:31.476608Z"
    }
   },
   "outputs": [],
   "source": [
    "for layer in vgg.layers:\n",
    "    layer.trainable=False"
   ]
  },
  {
   "cell_type": "code",
   "execution_count": null,
   "metadata": {},
   "outputs": [],
   "source": [
    "#making trainale parameter zero,\n",
    "#so that we can add our trainable parameters."
   ]
  },
  {
   "cell_type": "code",
   "execution_count": 7,
   "metadata": {
    "execution": {
     "iopub.execute_input": "2021-08-23T17:45:41.261246Z",
     "iopub.status.busy": "2021-08-23T17:45:41.260871Z",
     "iopub.status.idle": "2021-08-23T17:45:41.278746Z",
     "shell.execute_reply": "2021-08-23T17:45:41.277838Z",
     "shell.execute_reply.started": "2021-08-23T17:45:41.261212Z"
    }
   },
   "outputs": [
    {
     "name": "stdout",
     "output_type": "stream",
     "text": [
      "Model: \"vgg16\"\n",
      "_________________________________________________________________\n",
      "Layer (type)                 Output Shape              Param #   \n",
      "=================================================================\n",
      "input_1 (InputLayer)         [(None, 224, 224, 3)]     0         \n",
      "_________________________________________________________________\n",
      "block1_conv1 (Conv2D)        (None, 224, 224, 64)      1792      \n",
      "_________________________________________________________________\n",
      "block1_conv2 (Conv2D)        (None, 224, 224, 64)      36928     \n",
      "_________________________________________________________________\n",
      "block1_pool (MaxPooling2D)   (None, 112, 112, 64)      0         \n",
      "_________________________________________________________________\n",
      "block2_conv1 (Conv2D)        (None, 112, 112, 128)     73856     \n",
      "_________________________________________________________________\n",
      "block2_conv2 (Conv2D)        (None, 112, 112, 128)     147584    \n",
      "_________________________________________________________________\n",
      "block2_pool (MaxPooling2D)   (None, 56, 56, 128)       0         \n",
      "_________________________________________________________________\n",
      "block3_conv1 (Conv2D)        (None, 56, 56, 256)       295168    \n",
      "_________________________________________________________________\n",
      "block3_conv2 (Conv2D)        (None, 56, 56, 256)       590080    \n",
      "_________________________________________________________________\n",
      "block3_conv3 (Conv2D)        (None, 56, 56, 256)       590080    \n",
      "_________________________________________________________________\n",
      "block3_pool (MaxPooling2D)   (None, 28, 28, 256)       0         \n",
      "_________________________________________________________________\n",
      "block4_conv1 (Conv2D)        (None, 28, 28, 512)       1180160   \n",
      "_________________________________________________________________\n",
      "block4_conv2 (Conv2D)        (None, 28, 28, 512)       2359808   \n",
      "_________________________________________________________________\n",
      "block4_conv3 (Conv2D)        (None, 28, 28, 512)       2359808   \n",
      "_________________________________________________________________\n",
      "block4_pool (MaxPooling2D)   (None, 14, 14, 512)       0         \n",
      "_________________________________________________________________\n",
      "block5_conv1 (Conv2D)        (None, 14, 14, 512)       2359808   \n",
      "_________________________________________________________________\n",
      "block5_conv2 (Conv2D)        (None, 14, 14, 512)       2359808   \n",
      "_________________________________________________________________\n",
      "block5_conv3 (Conv2D)        (None, 14, 14, 512)       2359808   \n",
      "_________________________________________________________________\n",
      "block5_pool (MaxPooling2D)   (None, 7, 7, 512)         0         \n",
      "=================================================================\n",
      "Total params: 14,714,688\n",
      "Trainable params: 0\n",
      "Non-trainable params: 14,714,688\n",
      "_________________________________________________________________\n"
     ]
    }
   ],
   "source": [
    "vgg.summary()"
   ]
  },
  {
   "cell_type": "code",
   "execution_count": 10,
   "metadata": {
    "execution": {
     "iopub.execute_input": "2021-08-23T17:54:15.911525Z",
     "iopub.status.busy": "2021-08-23T17:54:15.911165Z",
     "iopub.status.idle": "2021-08-23T17:54:15.916413Z",
     "shell.execute_reply": "2021-08-23T17:54:15.915485Z",
     "shell.execute_reply.started": "2021-08-23T17:54:15.911493Z"
    }
   },
   "outputs": [],
   "source": [
    "from tensorflow.keras.models import Model\n",
    "from tensorflow.keras.layers import Flatten,Dense"
   ]
  },
  {
   "cell_type": "code",
   "execution_count": null,
   "metadata": {},
   "outputs": [],
   "source": [
    "# to add flatten layer we use 'output' &  on this flatten layer we are adding dense layer"
   ]
  },
  {
   "cell_type": "code",
   "execution_count": 12,
   "metadata": {
    "execution": {
     "iopub.execute_input": "2021-08-23T17:59:56.265621Z",
     "iopub.status.busy": "2021-08-23T17:59:56.265233Z",
     "iopub.status.idle": "2021-08-23T17:59:56.286493Z",
     "shell.execute_reply": "2021-08-23T17:59:56.285640Z",
     "shell.execute_reply.started": "2021-08-23T17:59:56.265580Z"
    }
   },
   "outputs": [],
   "source": [
    "flatten_layer=Flatten()(vgg.output)\n",
    "final_layer=Dense(2,activation='softmax')(flatten_layer)"
   ]
  },
  {
   "cell_type": "code",
   "execution_count": 16,
   "metadata": {
    "execution": {
     "iopub.execute_input": "2021-08-23T18:00:48.966267Z",
     "iopub.status.busy": "2021-08-23T18:00:48.965886Z",
     "iopub.status.idle": "2021-08-23T18:00:48.971780Z",
     "shell.execute_reply": "2021-08-23T18:00:48.970846Z",
     "shell.execute_reply.started": "2021-08-23T18:00:48.966233Z"
    }
   },
   "outputs": [
    {
     "data": {
      "text/plain": [
       "TensorShape([None, 25088])"
      ]
     },
     "execution_count": 16,
     "metadata": {},
     "output_type": "execute_result"
    }
   ],
   "source": [
    "flatten_layer.shape"
   ]
  },
  {
   "cell_type": "code",
   "execution_count": 17,
   "metadata": {
    "execution": {
     "iopub.execute_input": "2021-08-23T18:01:01.317109Z",
     "iopub.status.busy": "2021-08-23T18:01:01.316749Z",
     "iopub.status.idle": "2021-08-23T18:01:01.323550Z",
     "shell.execute_reply": "2021-08-23T18:01:01.322635Z",
     "shell.execute_reply.started": "2021-08-23T18:01:01.317077Z"
    }
   },
   "outputs": [
    {
     "data": {
      "text/plain": [
       "TensorShape([None, 2])"
      ]
     },
     "execution_count": 17,
     "metadata": {},
     "output_type": "execute_result"
    }
   ],
   "source": [
    "final_layer.shape"
   ]
  },
  {
   "cell_type": "code",
   "execution_count": null,
   "metadata": {},
   "outputs": [],
   "source": [
    "#To assemble vgg model and our model"
   ]
  },
  {
   "cell_type": "code",
   "execution_count": 18,
   "metadata": {
    "execution": {
     "iopub.execute_input": "2021-08-23T18:03:04.506615Z",
     "iopub.status.busy": "2021-08-23T18:03:04.506214Z",
     "iopub.status.idle": "2021-08-23T18:03:04.528726Z",
     "shell.execute_reply": "2021-08-23T18:03:04.527861Z",
     "shell.execute_reply.started": "2021-08-23T18:03:04.506547Z"
    }
   },
   "outputs": [],
   "source": [
    "model=Model(inputs=vgg.input,outputs=final_layer)\n",
    "model.compile(loss='categorical_crossentropy',optimizer='adam',metrics=['accuracy'])"
   ]
  },
  {
   "cell_type": "code",
   "execution_count": 19,
   "metadata": {
    "execution": {
     "iopub.execute_input": "2021-08-23T18:03:16.246148Z",
     "iopub.status.busy": "2021-08-23T18:03:16.245781Z",
     "iopub.status.idle": "2021-08-23T18:03:16.263476Z",
     "shell.execute_reply": "2021-08-23T18:03:16.262377Z",
     "shell.execute_reply.started": "2021-08-23T18:03:16.246114Z"
    }
   },
   "outputs": [
    {
     "name": "stdout",
     "output_type": "stream",
     "text": [
      "Model: \"model\"\n",
      "_________________________________________________________________\n",
      "Layer (type)                 Output Shape              Param #   \n",
      "=================================================================\n",
      "input_1 (InputLayer)         [(None, 224, 224, 3)]     0         \n",
      "_________________________________________________________________\n",
      "block1_conv1 (Conv2D)        (None, 224, 224, 64)      1792      \n",
      "_________________________________________________________________\n",
      "block1_conv2 (Conv2D)        (None, 224, 224, 64)      36928     \n",
      "_________________________________________________________________\n",
      "block1_pool (MaxPooling2D)   (None, 112, 112, 64)      0         \n",
      "_________________________________________________________________\n",
      "block2_conv1 (Conv2D)        (None, 112, 112, 128)     73856     \n",
      "_________________________________________________________________\n",
      "block2_conv2 (Conv2D)        (None, 112, 112, 128)     147584    \n",
      "_________________________________________________________________\n",
      "block2_pool (MaxPooling2D)   (None, 56, 56, 128)       0         \n",
      "_________________________________________________________________\n",
      "block3_conv1 (Conv2D)        (None, 56, 56, 256)       295168    \n",
      "_________________________________________________________________\n",
      "block3_conv2 (Conv2D)        (None, 56, 56, 256)       590080    \n",
      "_________________________________________________________________\n",
      "block3_conv3 (Conv2D)        (None, 56, 56, 256)       590080    \n",
      "_________________________________________________________________\n",
      "block3_pool (MaxPooling2D)   (None, 28, 28, 256)       0         \n",
      "_________________________________________________________________\n",
      "block4_conv1 (Conv2D)        (None, 28, 28, 512)       1180160   \n",
      "_________________________________________________________________\n",
      "block4_conv2 (Conv2D)        (None, 28, 28, 512)       2359808   \n",
      "_________________________________________________________________\n",
      "block4_conv3 (Conv2D)        (None, 28, 28, 512)       2359808   \n",
      "_________________________________________________________________\n",
      "block4_pool (MaxPooling2D)   (None, 14, 14, 512)       0         \n",
      "_________________________________________________________________\n",
      "block5_conv1 (Conv2D)        (None, 14, 14, 512)       2359808   \n",
      "_________________________________________________________________\n",
      "block5_conv2 (Conv2D)        (None, 14, 14, 512)       2359808   \n",
      "_________________________________________________________________\n",
      "block5_conv3 (Conv2D)        (None, 14, 14, 512)       2359808   \n",
      "_________________________________________________________________\n",
      "block5_pool (MaxPooling2D)   (None, 7, 7, 512)         0         \n",
      "_________________________________________________________________\n",
      "flatten_1 (Flatten)          (None, 25088)             0         \n",
      "_________________________________________________________________\n",
      "dense (Dense)                (None, 2)                 50178     \n",
      "=================================================================\n",
      "Total params: 14,764,866\n",
      "Trainable params: 50,178\n",
      "Non-trainable params: 14,714,688\n",
      "_________________________________________________________________\n"
     ]
    }
   ],
   "source": [
    "model.summary()"
   ]
  },
  {
   "cell_type": "code",
   "execution_count": 20,
   "metadata": {
    "execution": {
     "iopub.execute_input": "2021-08-23T18:10:17.311279Z",
     "iopub.status.busy": "2021-08-23T18:10:17.310923Z",
     "iopub.status.idle": "2021-08-23T18:10:18.372103Z",
     "shell.execute_reply": "2021-08-23T18:10:18.371040Z",
     "shell.execute_reply.started": "2021-08-23T18:10:17.311245Z"
    }
   },
   "outputs": [],
   "source": [
    "filenames=os.listdir('/kaggle/input/dogs-vs-cats/train/train')\n",
    "classes=[]\n",
    "for file in filenames:\n",
    "    classes.append(file.split('.')[0])"
   ]
  },
  {
   "cell_type": "code",
   "execution_count": 22,
   "metadata": {
    "execution": {
     "iopub.execute_input": "2021-08-23T18:11:23.186876Z",
     "iopub.status.busy": "2021-08-23T18:11:23.186483Z",
     "iopub.status.idle": "2021-08-23T18:11:23.202759Z",
     "shell.execute_reply": "2021-08-23T18:11:23.201804Z",
     "shell.execute_reply.started": "2021-08-23T18:11:23.186843Z"
    }
   },
   "outputs": [],
   "source": [
    "df=pd.DataFrame({'Filename':filenames,'class':classes})"
   ]
  },
  {
   "cell_type": "code",
   "execution_count": 23,
   "metadata": {
    "execution": {
     "iopub.execute_input": "2021-08-23T18:11:29.005869Z",
     "iopub.status.busy": "2021-08-23T18:11:29.005301Z",
     "iopub.status.idle": "2021-08-23T18:11:29.029229Z",
     "shell.execute_reply": "2021-08-23T18:11:29.028358Z",
     "shell.execute_reply.started": "2021-08-23T18:11:29.005834Z"
    }
   },
   "outputs": [
    {
     "data": {
      "text/html": [
       "<div>\n",
       "<style scoped>\n",
       "    .dataframe tbody tr th:only-of-type {\n",
       "        vertical-align: middle;\n",
       "    }\n",
       "\n",
       "    .dataframe tbody tr th {\n",
       "        vertical-align: top;\n",
       "    }\n",
       "\n",
       "    .dataframe thead th {\n",
       "        text-align: right;\n",
       "    }\n",
       "</style>\n",
       "<table border=\"1\" class=\"dataframe\">\n",
       "  <thead>\n",
       "    <tr style=\"text-align: right;\">\n",
       "      <th></th>\n",
       "      <th>Filename</th>\n",
       "      <th>class</th>\n",
       "    </tr>\n",
       "  </thead>\n",
       "  <tbody>\n",
       "    <tr>\n",
       "      <th>0</th>\n",
       "      <td>cat.12461.jpg</td>\n",
       "      <td>cat</td>\n",
       "    </tr>\n",
       "    <tr>\n",
       "      <th>1</th>\n",
       "      <td>dog.3443.jpg</td>\n",
       "      <td>dog</td>\n",
       "    </tr>\n",
       "    <tr>\n",
       "      <th>2</th>\n",
       "      <td>dog.7971.jpg</td>\n",
       "      <td>dog</td>\n",
       "    </tr>\n",
       "    <tr>\n",
       "      <th>3</th>\n",
       "      <td>dog.10728.jpg</td>\n",
       "      <td>dog</td>\n",
       "    </tr>\n",
       "    <tr>\n",
       "      <th>4</th>\n",
       "      <td>dog.1942.jpg</td>\n",
       "      <td>dog</td>\n",
       "    </tr>\n",
       "  </tbody>\n",
       "</table>\n",
       "</div>"
      ],
      "text/plain": [
       "        Filename class\n",
       "0  cat.12461.jpg   cat\n",
       "1   dog.3443.jpg   dog\n",
       "2   dog.7971.jpg   dog\n",
       "3  dog.10728.jpg   dog\n",
       "4   dog.1942.jpg   dog"
      ]
     },
     "execution_count": 23,
     "metadata": {},
     "output_type": "execute_result"
    }
   ],
   "source": [
    "df.head()"
   ]
  },
  {
   "cell_type": "code",
   "execution_count": 24,
   "metadata": {
    "execution": {
     "iopub.execute_input": "2021-08-23T18:12:25.198019Z",
     "iopub.status.busy": "2021-08-23T18:12:25.197647Z",
     "iopub.status.idle": "2021-08-23T18:12:25.202619Z",
     "shell.execute_reply": "2021-08-23T18:12:25.201397Z",
     "shell.execute_reply.started": "2021-08-23T18:12:25.197987Z"
    }
   },
   "outputs": [],
   "source": [
    "from tensorflow.keras.preprocessing.image import ImageDataGenerator"
   ]
  },
  {
   "cell_type": "code",
   "execution_count": 25,
   "metadata": {
    "execution": {
     "iopub.execute_input": "2021-08-23T18:13:41.251339Z",
     "iopub.status.busy": "2021-08-23T18:13:41.250961Z",
     "iopub.status.idle": "2021-08-23T18:13:41.255886Z",
     "shell.execute_reply": "2021-08-23T18:13:41.254929Z",
     "shell.execute_reply.started": "2021-08-23T18:13:41.251304Z"
    }
   },
   "outputs": [],
   "source": [
    "data_gen=ImageDataGenerator(zoom_range=0.2,shear_range=0.2,horizontal_flip=True,rescale=1/255)"
   ]
  },
  {
   "cell_type": "code",
   "execution_count": 26,
   "metadata": {
    "execution": {
     "iopub.execute_input": "2021-08-23T18:17:01.486036Z",
     "iopub.status.busy": "2021-08-23T18:17:01.485675Z",
     "iopub.status.idle": "2021-08-23T18:18:07.009592Z",
     "shell.execute_reply": "2021-08-23T18:18:07.008467Z",
     "shell.execute_reply.started": "2021-08-23T18:17:01.486003Z"
    }
   },
   "outputs": [
    {
     "name": "stdout",
     "output_type": "stream",
     "text": [
      "Found 25000 validated image filenames belonging to 2 classes.\n"
     ]
    }
   ],
   "source": [
    "train_data=data_gen.flow_from_dataframe(df,'/kaggle/input/dogs-vs-cats/train/train',x_col='Filename',y_col='class',target_size=(224,224),batch_size=32,class_mode='categorical')"
   ]
  },
  {
   "cell_type": "code",
   "execution_count": 28,
   "metadata": {
    "execution": {
     "iopub.execute_input": "2021-08-23T18:18:44.631176Z",
     "iopub.status.busy": "2021-08-23T18:18:44.630816Z",
     "iopub.status.idle": "2021-08-23T18:18:44.637705Z",
     "shell.execute_reply": "2021-08-23T18:18:44.636684Z",
     "shell.execute_reply.started": "2021-08-23T18:18:44.631143Z"
    }
   },
   "outputs": [
    {
     "data": {
      "text/plain": [
       "{'cat': 0, 'dog': 1}"
      ]
     },
     "execution_count": 28,
     "metadata": {},
     "output_type": "execute_result"
    }
   ],
   "source": [
    "train_data.class_indices"
   ]
  },
  {
   "cell_type": "code",
   "execution_count": 30,
   "metadata": {
    "execution": {
     "iopub.execute_input": "2021-08-23T18:25:08.786714Z",
     "iopub.status.busy": "2021-08-23T18:25:08.786334Z",
     "iopub.status.idle": "2021-08-23T18:52:43.693341Z",
     "shell.execute_reply": "2021-08-23T18:52:43.692390Z",
     "shell.execute_reply.started": "2021-08-23T18:25:08.786680Z"
    }
   },
   "outputs": [
    {
     "name": "stdout",
     "output_type": "stream",
     "text": [
      "Epoch 1/4\n",
      "782/782 [==============================] - 456s 583ms/step - loss: 0.2384 - accuracy: 0.9096\n",
      "Epoch 2/4\n",
      "782/782 [==============================] - 398s 508ms/step - loss: 0.2145 - accuracy: 0.9217\n",
      "Epoch 3/4\n",
      "782/782 [==============================] - 400s 511ms/step - loss: 0.2162 - accuracy: 0.9244\n",
      "Epoch 4/4\n",
      "782/782 [==============================] - 401s 513ms/step - loss: 0.2014 - accuracy: 0.9305\n"
     ]
    },
    {
     "data": {
      "text/plain": [
       "<tensorflow.python.keras.callbacks.History at 0x7f67cd444dd0>"
      ]
     },
     "execution_count": 30,
     "metadata": {},
     "output_type": "execute_result"
    }
   ],
   "source": [
    "model.fit_generator(train_data,steps_per_epoch=len(train_data),epochs=4)"
   ]
  },
  {
   "cell_type": "code",
   "execution_count": 31,
   "metadata": {
    "execution": {
     "iopub.execute_input": "2021-08-23T18:52:56.996747Z",
     "iopub.status.busy": "2021-08-23T18:52:56.996356Z",
     "iopub.status.idle": "2021-08-23T18:52:57.123210Z",
     "shell.execute_reply": "2021-08-23T18:52:57.122244Z",
     "shell.execute_reply.started": "2021-08-23T18:52:56.996708Z"
    }
   },
   "outputs": [],
   "source": [
    "model.save('VGG_model.h5')"
   ]
  },
  {
   "cell_type": "code",
   "execution_count": 32,
   "metadata": {
    "execution": {
     "iopub.execute_input": "2021-08-23T18:54:11.811426Z",
     "iopub.status.busy": "2021-08-23T18:54:11.811075Z",
     "iopub.status.idle": "2021-08-23T18:54:12.040540Z",
     "shell.execute_reply": "2021-08-23T18:54:12.039615Z",
     "shell.execute_reply.started": "2021-08-23T18:54:11.811395Z"
    }
   },
   "outputs": [],
   "source": [
    "new_model=tf.keras.models.load_model('./VGG_model.h5')"
   ]
  },
  {
   "cell_type": "code",
   "execution_count": 33,
   "metadata": {
    "execution": {
     "iopub.execute_input": "2021-08-23T18:58:31.385433Z",
     "iopub.status.busy": "2021-08-23T18:58:31.385071Z",
     "iopub.status.idle": "2021-08-23T18:58:31.535966Z",
     "shell.execute_reply": "2021-08-23T18:58:31.535018Z",
     "shell.execute_reply.started": "2021-08-23T18:58:31.385399Z"
    }
   },
   "outputs": [],
   "source": [
    "import cv2"
   ]
  },
  {
   "cell_type": "code",
   "execution_count": 36,
   "metadata": {
    "execution": {
     "iopub.execute_input": "2021-08-23T19:14:05.072069Z",
     "iopub.status.busy": "2021-08-23T19:14:05.071666Z",
     "iopub.status.idle": "2021-08-23T19:14:05.078987Z",
     "shell.execute_reply": "2021-08-23T19:14:05.077976Z",
     "shell.execute_reply.started": "2021-08-23T19:14:05.072033Z"
    }
   },
   "outputs": [],
   "source": [
    "def get_cat_or_dog(filepath):\n",
    "    img0=cv2.imread(filepath)\n",
    "    img0=cv2.resize(img0,(224,224))/255\n",
    "    class_code=new_model.predict(img0.reshape(1,224,224,3)).argmax()\n",
    "    return 'CAT' if class_code==0 else 'DOG'"
   ]
  },
  {
   "cell_type": "code",
   "execution_count": 41,
   "metadata": {
    "execution": {
     "iopub.execute_input": "2021-08-23T19:15:26.055008Z",
     "iopub.status.busy": "2021-08-23T19:15:26.054645Z",
     "iopub.status.idle": "2021-08-23T19:15:26.121749Z",
     "shell.execute_reply": "2021-08-23T19:15:26.120881Z",
     "shell.execute_reply.started": "2021-08-23T19:15:26.054976Z"
    }
   },
   "outputs": [
    {
     "data": {
      "text/plain": [
       "'CAT'"
      ]
     },
     "execution_count": 41,
     "metadata": {},
     "output_type": "execute_result"
    }
   ],
   "source": [
    "get_cat_or_dog('../input/dogs-vs-cats/test/test/1005.jpg')"
   ]
  },
  {
   "cell_type": "code",
   "execution_count": null,
   "metadata": {},
   "outputs": [],
   "source": []
  }
 ],
 "metadata": {
  "kernelspec": {
   "display_name": "Python 3",
   "language": "python",
   "name": "python3"
  },
  "language_info": {
   "codemirror_mode": {
    "name": "ipython",
    "version": 3
   },
   "file_extension": ".py",
   "mimetype": "text/x-python",
   "name": "python",
   "nbconvert_exporter": "python",
   "pygments_lexer": "ipython3",
   "version": "3.8.5"
  }
 },
 "nbformat": 4,
 "nbformat_minor": 4
}
